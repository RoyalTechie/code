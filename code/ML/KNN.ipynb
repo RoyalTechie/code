{
 "cells": [
  {
   "cell_type": "code",
   "execution_count": null,
   "metadata": {},
   "outputs": [],
   "source": [
    "#import the packages\n",
    "import pandas as pd\n",
    "import numpy as np\n",
    "\n",
    "#Read dataset\n",
    "dataset=pd.read_csv(\"KNN.csv\")\n",
    "X=dataset.iloc[:,:-1].values\n",
    "y=dataset.iloc[:,2].values"
   ]
  },
  {
   "cell_type": "code",
   "execution_count": null,
   "metadata": {},
   "outputs": [],
   "source": [
    "#import KNeighborshood Classifier and create object of it\n",
    "from sklearn.neighbors import KNeighborsClassifier\n",
    "classifier=KNeighborsClassifier(n_neighbors=3)\n",
    "classifier.fit(X,y)\n",
    "\n",
    "#predict the class for the point(6,6)\n",
    "X_test=np.array([6,6])\n",
    "y_pred=classifier.predict([X_test])\n",
    "print('General KNN',y_pred)"
   ]
  },
  {
   "cell_type": "code",
   "execution_count": null,
   "metadata": {},
   "outputs": [],
   "source": [
    "classifier=KNeighborsClassifier(n_neighbors=3,weights='distance')\n",
    "classifier.fit(X,y)"
   ]
  },
  {
   "cell_type": "code",
   "execution_count": null,
   "metadata": {},
   "outputs": [],
   "source": [
    "#predict the class for the point(6,6)\n",
    "X_test=np.array([6,2])\n",
    "y_pred=classifier.predict([X_test])\n",
    "print('Distance Weighted KNN',y_pred)\n"
   ]
  }
 ],
 "metadata": {
  "interpreter": {
   "hash": "d5faf890fae02adb860d4983fba8159d1b80269470639d370d7d66c9174520a4"
  },
  "kernelspec": {
   "display_name": "Python 3.9.2 64-bit",
   "language": "python",
   "name": "python3"
  },
  "language_info": {
   "codemirror_mode": {
    "name": "ipython",
    "version": 3
   },
   "file_extension": ".py",
   "mimetype": "text/x-python",
   "name": "python",
   "nbconvert_exporter": "python",
   "pygments_lexer": "ipython3",
   "version": "3.9.2"
  },
  "orig_nbformat": 4
 },
 "nbformat": 4,
 "nbformat_minor": 2
}
