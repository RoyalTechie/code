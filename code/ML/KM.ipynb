{
 "cells": [
  {
   "cell_type": "code",
   "execution_count": null,
   "metadata": {},
   "outputs": [],
   "source": [
    "import numpy as np\n",
    "import matplotlib.pyplot as plt\n",
    "import pandas as pd"
   ]
  },
  {
   "cell_type": "code",
   "execution_count": null,
   "metadata": {},
   "outputs": [],
   "source": [
    "df = pd.DataFrame({'X': [0.1, 0.15, 0.08, 0.16, 0.2, 0.25, 0.24, 0.3],\n",
    "                   'y': [0.6, 0.71, 0.9, 0.85, 0.3, 0.5, 0.1, 0.2]})\n",
    "f1 = df['X'].values\n",
    "f2 = df['y'].values\n",
    "X = np.array(list(zip(f1, f2)))\n",
    "print(X)"
   ]
  },
  {
   "cell_type": "code",
   "execution_count": null,
   "metadata": {},
   "outputs": [],
   "source": [
    "C_x = np.array([0.1, 0.3])\n",
    "C_y = np.array([0.6, 0.2])\n",
    "centroids = C_x, C_y\n"
   ]
  },
  {
   "cell_type": "code",
   "execution_count": null,
   "metadata": {},
   "outputs": [],
   "source": [
    "colmap = {1: 'r', 2: 'b'}\n",
    "plt.scatter(f1, f2, color='k')\n",
    "plt.show()"
   ]
  },
  {
   "cell_type": "code",
   "execution_count": null,
   "metadata": {},
   "outputs": [],
   "source": [
    "olmap = {1: 'r', 2: 'b'}\n",
    "plt.scatter(f1, f2, color='k')\n",
    "plt.show()"
   ]
  },
  {
   "cell_type": "code",
   "execution_count": null,
   "metadata": {},
   "outputs": [],
   "source": [
    "plt.scatter(C_x[0], C_y[0], color=colmap[1])\n",
    "plt.scatter(C_x[1], C_y[1], color=colmap[2])\n",
    "plt.show()"
   ]
  },
  {
   "cell_type": "code",
   "execution_count": null,
   "metadata": {},
   "outputs": [],
   "source": [
    "C = np.array(list((C_x, C_y)), dtype=np.float32)\n",
    "print(C)"
   ]
  },
  {
   "cell_type": "code",
   "execution_count": null,
   "metadata": {},
   "outputs": [],
   "source": [
    "plt.scatter(f1, f2, c='#050505')\n",
    "plt.scatter(C_x[0], C_y[0], marker='*', s=200, c='r')\n",
    "plt.scatter(C_x[1], C_y[1], marker='*', s=200, c='b')\n",
    "plt.show()"
   ]
  },
  {
   "cell_type": "code",
   "execution_count": null,
   "metadata": {},
   "outputs": [],
   "source": [
    "from sklearn.cluster import KMeans\n",
    "\n",
    "model = KMeans(n_clusters=2, random_state=0)\n",
    "model.fit(X)\n",
    "labels = model.labels_\n",
    "print(labels)"
   ]
  },
  {
   "cell_type": "code",
   "execution_count": null,
   "metadata": {},
   "outputs": [],
   "source": [
    "count = 0\n",
    "for i in range(len(labels)):\n",
    "    if (labels[i] == 1):\n",
    "        count = count + 1"
   ]
  },
  {
   "cell_type": "code",
   "execution_count": null,
   "metadata": {},
   "outputs": [],
   "source": [
    "print('No of population around cluster 2:', count - 1)\n",
    "\n",
    "# Find new centroids\n",
    "new_centroids = model.cluster_centers_\n",
    "\n",
    "print('Previous value of m1 and m2 is:')\n",
    "print('M1==', centroids[0])\n",
    "print('M1==', centroids[1])\n",
    "\n",
    "print('updated value of m1 and m2 is:')\n",
    "print('M1==', new_centroids[0])\n",
    "print('M1==', new_centroids[1])\n"
   ]
  }
 ],
 "metadata": {
  "interpreter": {
   "hash": "d5faf890fae02adb860d4983fba8159d1b80269470639d370d7d66c9174520a4"
  },
  "kernelspec": {
   "display_name": "Python 3.9.2 64-bit",
   "language": "python",
   "name": "python3"
  },
  "language_info": {
   "codemirror_mode": {
    "name": "ipython",
    "version": 3
   },
   "file_extension": ".py",
   "mimetype": "text/x-python",
   "name": "python",
   "nbconvert_exporter": "python",
   "pygments_lexer": "ipython3",
   "version": "3.9.2"
  },
  "orig_nbformat": 4
 },
 "nbformat": 4,
 "nbformat_minor": 2
}
